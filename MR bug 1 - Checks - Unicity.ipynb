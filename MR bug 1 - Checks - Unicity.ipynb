{
 "cells": [
  {
   "cell_type": "code",
   "execution_count": 1,
   "id": "b51df786",
   "metadata": {},
   "outputs": [],
   "source": [
    "### Create code to perform DBT tests on sandbox table"
   ]
  },
  {
   "cell_type": "code",
   "execution_count": 2,
   "id": "f0ad23b7",
   "metadata": {},
   "outputs": [],
   "source": [
    "###### BASE"
   ]
  },
  {
   "cell_type": "code",
   "execution_count": 3,
   "id": "60b9f526",
   "metadata": {},
   "outputs": [],
   "source": [
    "import os\n",
    "from sqlalchemy import create_engine\n",
    "import pandas as pd"
   ]
  },
  {
   "cell_type": "code",
   "execution_count": 4,
   "id": "67def819",
   "metadata": {},
   "outputs": [],
   "source": [
    "# Settings of Snowflake account\n",
    "ONELOGIN_USER = \"marie-camille.vergez.ext@qonto.com\"\n",
    "SNOWFLAKE_ACCOUNT = \"qonto.eu-central-1\"\n",
    "SNOWFLAKE_DATABASE = \"RAW\"\n",
    "SNOWFLAKE_SCHEMA = \"API\"\n",
    "SNOWFLAKE_WAREHOUSE = \"TEAM_DATA_BI_WH\"\n",
    "SNOWFLAKE_ROLE = \"TEAM_DATA_BI\"\n",
    "url = f\"snowflake://{ONELOGIN_USER}@{SNOWFLAKE_ACCOUNT}/{SNOWFLAKE_DATABASE}/{SNOWFLAKE_SCHEMA}?role={SNOWFLAKE_ROLE}&warehouse={SNOWFLAKE_WAREHOUSE}\"\n",
    "\n",
    "# Functions to extract the data\n",
    "def get_connection():\n",
    "    engine = create_engine(\n",
    "        url, connect_args={'authenticator': 'externalbrowser'}, echo=False)\n",
    "    return engine.connect()\n",
    "\n",
    "def execute_query(query):\n",
    "    con = get_connection()\n",
    "    tables_result = con.execute(query).fetchall()\n",
    "    columns = con.execute(query).keys()\n",
    "    con.close()\n",
    "    df = pd.DataFrame(tables_result, columns=columns)\n",
    "    return df"
   ]
  },
  {
   "cell_type": "code",
   "execution_count": 5,
   "id": "43d4eeb8",
   "metadata": {},
   "outputs": [],
   "source": [
    "##### SET TABLE List to query ---- to change with a import csv"
   ]
  },
  {
   "cell_type": "code",
   "execution_count": 6,
   "id": "5bac43fd",
   "metadata": {},
   "outputs": [],
   "source": [
    "my_tables = pd.read_csv(\"MR_Excel_Python - bug1.csv\")"
   ]
  },
  {
   "cell_type": "code",
   "execution_count": 7,
   "id": "bc04e96c",
   "metadata": {},
   "outputs": [],
   "source": [
    "table_list = my_tables['sandbox_name'].tolist()"
   ]
  },
  {
   "cell_type": "code",
   "execution_count": 8,
   "id": "d93a97c5",
   "metadata": {},
   "outputs": [],
   "source": [
    "dbt_tests_results = my_tables[['KPI_ID_with0', 'KPI_SHORT_NAME', 'sandbox_name']]"
   ]
  },
  {
   "cell_type": "code",
   "execution_count": 9,
   "id": "ebb902a5",
   "metadata": {},
   "outputs": [],
   "source": [
    "# Set the dataframe of results\n",
    "#d = {'table': table_list}\n",
    "#dbt_tests_results = pd.DataFrame(data=d)"
   ]
  },
  {
   "cell_type": "code",
   "execution_count": 10,
   "id": "2f1cfb3c",
   "metadata": {},
   "outputs": [],
   "source": [
    "#### Define the unique key of your tables"
   ]
  },
  {
   "cell_type": "code",
   "execution_count": 11,
   "id": "c2f5de68",
   "metadata": {},
   "outputs": [],
   "source": [
    "unicity_key = 'kpi_date, periodicity, legal_country, legal_entity, price_plan_subgroup, company_onboarding_type, subscription_billing_cycle, company_size_segment, acquisition_channel_level_1, acquisition_channel_level_2'"
   ]
  },
  {
   "cell_type": "code",
   "execution_count": 12,
   "id": "3a5c4277",
   "metadata": {},
   "outputs": [],
   "source": [
    "#### RUN SQL test"
   ]
  },
  {
   "cell_type": "code",
   "execution_count": 13,
   "id": "17f5daf2",
   "metadata": {},
   "outputs": [
    {
     "name": "stdout",
     "output_type": "stream",
     "text": [
      "Initiating login request with your identity provider. A browser window should have opened for you to complete the login. If you can't see it, check existing browser windows, or your OS settings. Press CTRL+C to abort and try again...\n",
      "Going to open: https://qonto.onelogin.com/trust/saml2/http-redirect/sso/be5c810c-f64e-4bce-b133-7e1fdacd9a5b?SAMLRequest=lVNdj9owEPwrkfuc2A7QHhZwSoPQIXFA%2BaiqvjnOAobEBtshR399HT6k68Od1DdrPeOZ3Vn3nt%2FKIjiDsVKrPqIRQQEooXOptn20Xo3CJxRYx1XOC62gjy5g0fOgZ3lZHFlSuZ1awKkC6wL%2FkLKsueijyiimuZWWKV6CZU6wZfI6YXFEGLcWjPNy6E7JrfRaO%2BeODOO6rqO6FWmzxTEhBJMu9qgG8gW9kzh%2BrnE02mmhiwflzff0gQTFpN1IeIRXmN%2BJ36W6jeAzlewGsuxltZqH89lyhYLk0V2qla1KMEswZylgvZjcDFjv4MdsuppFUIUClDO8CGlkla43BT%2BA0OWxcv7ZyJ%2FwBnJc6K30wxoP%2B%2Bh4kHm5%2BzU5pK%2FtyfTPRb6QbLNvnxYkHTki9nqfZOtOuj0n%2ByQ1VqDg5yPauIl2bG0FY9UE6nyJxK2Q0jDurmjMaIvRdhTH5DcKhj5Qqbi7Mh%2BuT1o5HfktuBq62nOmsg43gcS4gYUGcmlA%2BJrVOIOOeKJEhJuvbQjbmYAwo61W%2BA3oJuci7%2FJOhm67xK7OzOC%2FJ9TD7%2Bn3vZz6qMbDuS6kuAQjbUruPk6SRvRakXm4uUIZlFwWSZ4bsNYnWhS6Tg1w59ffNwwID26q%2F36AwV8%3D&RelayState=56387 to authenticate...\n"
     ]
    },
    {
     "name": "stderr",
     "output_type": "stream",
     "text": [
      "/var/folders/h6/8dpsrxl10lq7rtqbdzym8bj40000gn/T/ipykernel_61560/1048295924.py:18: RemovedIn20Warning: Deprecated API features detected! These feature(s) are not compatible with SQLAlchemy 2.0. To prevent incompatible upgrades prior to updating applications, ensure requirements files are pinned to \"sqlalchemy<2.0\". Set environment variable SQLALCHEMY_WARN_20=1 to show all deprecation warnings.  Set environment variable SQLALCHEMY_SILENCE_UBER_WARNING=1 to silence this message. (Background on SQLAlchemy 2.0 at: https://sqlalche.me/e/b8d9)\n",
      "  tables_result = con.execute(query).fetchall()\n"
     ]
    },
    {
     "name": "stdout",
     "output_type": "stream",
     "text": [
      "Initiating login request with your identity provider. A browser window should have opened for you to complete the login. If you can't see it, check existing browser windows, or your OS settings. Press CTRL+C to abort and try again...\n",
      "Going to open: https://qonto.onelogin.com/trust/saml2/http-redirect/sso/be5c810c-f64e-4bce-b133-7e1fdacd9a5b?SAMLRequest=lZNdb9owFIb%2FSuRdJ44ToGAVKgZDQ6V8lDBtuzPOASwcm9oOKf%2B%2BTihSd9FKu4tOnuM8x%2B%2FJ%2FcNrIYMzGCu06iMSxSgAxXUu1L6PNtkk7KLAOqZyJrWCPrqARQ%2BDe8sKeaLD0h3UM7yUYF3gD1KWNi%2F6qDSKamaFpYoVYKnjdD18mtEkiunJaKe5luhDy9cdzFowzhveWnIrvN7BuRPFuKqqqEojbfY4ieMYxz3sqRr5duNf%2FUyf8ATHrZr3hMeX727fhbpewVda2ytk6c8sW4bLxTpDwfCmOtLKlgWYNZiz4LB5nl0FrDdYLebZIoIy5KCcYTIkkVW62kl2BK6LU%2Bn8sZF%2FwjvIsdR74SefjvvodBR5b906P8kfq43qsv3i9%2BOifb7Mkj%2Bjx8NQTtg8Y6uNkOlxxviRo%2BDXLdqkjnZqbQlTVQfqfClO0pCQMOllJKEkpeQu6nSSvygY%2B0CFYq7pvFm%2FaOV05LegEWr0nCmtw3WACa6x0EAuDHBfsxpvoc27JObhrtOCsLXlEG5JmoZ3QHY543mPtbfouku0MTOD%2F76he%2Fyx%2FX0v5z6q6XippeCXYKJNwdznSZKINBWRh7sGpVAwIYd5bsBan6iUuhoZYM6vvx8YEB5cv%2FrvDzB4Aw%3D%3D&RelayState=56412 to authenticate...\n",
      "Initiating login request with your identity provider. A browser window should have opened for you to complete the login. If you can't see it, check existing browser windows, or your OS settings. Press CTRL+C to abort and try again...\n",
      "Going to open: https://qonto.onelogin.com/trust/saml2/http-redirect/sso/be5c810c-f64e-4bce-b133-7e1fdacd9a5b?SAMLRequest=lVNdT9swFP0rkfec2E7CRq22KKPAqhXa0TAJ3hzntrWa2MF2GrpfP6cfEnsAaW%2FW9Tk%2B595zPbx6q6tgB8ZKrUaIRgQFoIQupVqP0FN%2BG16iwDquSl5pBSO0B4uuxkPL66phWes26hFeW7Au8A8py%2FqLEWqNYppbaZniNVjmBFtm9zMWR4Rxa8E4L4dOlNJKr7VxrmEYd10XdUmkzRrHhBBMBtijesgX9E6i%2BVyjMdppoasz5c339IEExSTtJTzCKyxOxO9SHUfwmUpxBFn2I88X4WK%2BzFGQnbu71sq2NZglmJ0U8PQ4Oxqw3sGv%2BUM%2Bj6ANBShneBXSyCrdrSq%2BBaHrpnX%2B2cif8ApKXOm19MOaTkao2coyFcsiv1nc08I1lPzZ31XTTiddvcu2z2m2%2B7kt6tkNuXvevBCBgt%2FnaOM%2B2qm1LUxVH6jzJRInIaVhPMhpzGjCYhKlyeULCiY%2BUKm4OzDPrl%2B1cjryW3AwdLDnTGsd7gOJcQ8LDZTSgPA1q3EBF%2BKSEhGuvqYQpoWAsKBJEn4Duiq5KAf8okDHXWIHZ2b83xMa4vf0014%2B%2BKimk4WupNgHt9rU3H2cJI3ooSLLcHWAMqi5rLKyNGCtT7SqdHdtgDu%2F%2Fr5hQHh8VP33A4z%2FAg%3D%3D&RelayState=56434 to authenticate...\n",
      "Initiating login request with your identity provider. A browser window should have opened for you to complete the login. If you can't see it, check existing browser windows, or your OS settings. Press CTRL+C to abort and try again...\n",
      "Going to open: https://qonto.onelogin.com/trust/saml2/http-redirect/sso/be5c810c-f64e-4bce-b133-7e1fdacd9a5b?SAMLRequest=lZNRb9owEMe%2FSuQ9J44T6IoFVAxWla4rDNKt25txDmrVsanPIfDtZ0KRuodW2lt0%2BZ3zO%2F8v%2Fat9paMdOFTWDAhLUhKBkbZUZjMgD8V1fEki9MKUQlsDA3IAJFfDPopKb%2Fmo9k9mAS81oI%2FCQQZ5%2B2JAame4FaiQG1EBci%2F5cvT9jmdJyrfOeiutJm9aPu4QiOB8MDy3lKiC3pP3W05p0zRJkyfWbWiWpilNezRQR%2BTTmd%2BHmd7hGU07Rz4QAZ%2B%2Fun1R5nQFH2mtThDym6KYx%2FPZsiDR6Kw6tgbrCtwS3E5JeFjcnQQwGPyY3RezBOpYgvFO6JglaGyz1uIZpK22tQ%2FHJuGJrqGk2m5UmHw6GZDtsyoLDY%2B3%2B4WbiG%2B%2F8OZWY4rdrN50x8vlbny7bTQ7fH00vZk%2F%2FJYk%2BnmONjtGO0WsYWqOgfpQSrM8ZizOegXLOMt5licXjP0h0SQEqozwbefZ%2BsUab5OwBa1Qq%2BddjZ4eA8zoEYsdlMqBDDW0dAVdeclSGa8vOhB3VhLiFcvz%2BDOwdSlk2RPdFTntEm%2FN3PC%2Fb6hP37a%2F7uV9iGo6mVut5CG6tq4S%2Fv0kWcLaiirjdYtyqITSo7J0gBgS1do2YwfCh%2FUPAwOhw9NX%2F%2F0Bhn8B&RelayState=56458 to authenticate...\n"
     ]
    }
   ],
   "source": [
    "#### unicity\n",
    "dbt_tests_results[\"nb_row_unicity_test\"]='NULL'\n",
    "for i in range(len(table_list)):\n",
    "    try:\n",
    "        query_unique = f\"\"\"\n",
    "        select\n",
    "        concat( {unicity_key} ) as key\n",
    "        , count(key) as test\n",
    "\n",
    "        from {table_list[i]}\n",
    "        group by all\n",
    "        having test != 1\n",
    "        \"\"\"\n",
    "        df=execute_query(query_unique)\n",
    "        result = df.size\n",
    "        dbt_tests_results[\"nb_row_unicity_test\"][i]=result\n",
    "    except:\n",
    "        pass"
   ]
  },
  {
   "cell_type": "code",
   "execution_count": 14,
   "id": "05c25831",
   "metadata": {},
   "outputs": [
    {
     "data": {
      "text/html": [
       "<div>\n",
       "<style scoped>\n",
       "    .dataframe tbody tr th:only-of-type {\n",
       "        vertical-align: middle;\n",
       "    }\n",
       "\n",
       "    .dataframe tbody tr th {\n",
       "        vertical-align: top;\n",
       "    }\n",
       "\n",
       "    .dataframe thead th {\n",
       "        text-align: right;\n",
       "    }\n",
       "</style>\n",
       "<table border=\"1\" class=\"dataframe\">\n",
       "  <thead>\n",
       "    <tr style=\"text-align: right;\">\n",
       "      <th></th>\n",
       "      <th>KPI_ID_with0</th>\n",
       "      <th>KPI_SHORT_NAME</th>\n",
       "      <th>sandbox_name</th>\n",
       "      <th>nb_row_unicity_test</th>\n",
       "    </tr>\n",
       "  </thead>\n",
       "  <tbody>\n",
       "    <tr>\n",
       "      <th>0</th>\n",
       "      <td>pre_compute_054</td>\n",
       "      <td>contacts</td>\n",
       "      <td>sandbox.marie_camille_vergez.analytics__dashbo...</td>\n",
       "      <td>0</td>\n",
       "    </tr>\n",
       "    <tr>\n",
       "      <th>1</th>\n",
       "      <td>054</td>\n",
       "      <td>contacts</td>\n",
       "      <td>sandbox.marie_camille_vergez.analytics__dashbo...</td>\n",
       "      <td>0</td>\n",
       "    </tr>\n",
       "    <tr>\n",
       "      <th>2</th>\n",
       "      <td>pre_compute_128</td>\n",
       "      <td>transactions_paying_clients</td>\n",
       "      <td>sandbox.marie_camille_vergez.analytics__dashbo...</td>\n",
       "      <td>0</td>\n",
       "    </tr>\n",
       "    <tr>\n",
       "      <th>3</th>\n",
       "      <td>128</td>\n",
       "      <td>transactions_paying_clients</td>\n",
       "      <td>sandbox.marie_camille_vergez.analytics__dashbo...</td>\n",
       "      <td>0</td>\n",
       "    </tr>\n",
       "  </tbody>\n",
       "</table>\n",
       "</div>"
      ],
      "text/plain": [
       "      KPI_ID_with0               KPI_SHORT_NAME  \\\n",
       "0  pre_compute_054                     contacts   \n",
       "1              054                     contacts   \n",
       "2  pre_compute_128  transactions_paying_clients   \n",
       "3              128  transactions_paying_clients   \n",
       "\n",
       "                                        sandbox_name nb_row_unicity_test  \n",
       "0  sandbox.marie_camille_vergez.analytics__dashbo...                   0  \n",
       "1  sandbox.marie_camille_vergez.analytics__dashbo...                   0  \n",
       "2  sandbox.marie_camille_vergez.analytics__dashbo...                   0  \n",
       "3  sandbox.marie_camille_vergez.analytics__dashbo...                   0  "
      ]
     },
     "execution_count": 14,
     "metadata": {},
     "output_type": "execute_result"
    }
   ],
   "source": [
    "dbt_tests_results"
   ]
  },
  {
   "cell_type": "code",
   "execution_count": 15,
   "id": "7e1b8637",
   "metadata": {},
   "outputs": [],
   "source": [
    "# dbt_tests_results.to_csv('MR_remove_company_size_unicity_results.csv', index=False)"
   ]
  },
  {
   "cell_type": "code",
   "execution_count": 16,
   "id": "ac467e81",
   "metadata": {},
   "outputs": [],
   "source": [
    "# Non null des colonnes demandées\n",
    "# MINUS ? Trop différent pour le faire de manière générique"
   ]
  },
  {
   "cell_type": "code",
   "execution_count": 17,
   "id": "e4b53491",
   "metadata": {},
   "outputs": [],
   "source": [
    "# A rajouter - same value at the end"
   ]
  }
 ],
 "metadata": {
  "kernelspec": {
   "display_name": "Python 3 (ipykernel)",
   "language": "python",
   "name": "python3"
  },
  "language_info": {
   "codemirror_mode": {
    "name": "ipython",
    "version": 3
   },
   "file_extension": ".py",
   "mimetype": "text/x-python",
   "name": "python",
   "nbconvert_exporter": "python",
   "pygments_lexer": "ipython3",
   "version": "3.11.4"
  }
 },
 "nbformat": 4,
 "nbformat_minor": 5
}
